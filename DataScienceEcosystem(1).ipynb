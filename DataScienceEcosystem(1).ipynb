{
 "cells": [
  {
   "cell_type": "markdown",
   "id": "099682db-017c-47b7-8bf9-7670a7d723ba",
   "metadata": {},
   "source": [
    "# Data Science Tools and Ecosystem"
   ]
  },
  {
   "cell_type": "markdown",
   "id": "66ea422e-b0b5-46ee-af47-7498174be46e",
   "metadata": {
    "jp-MarkdownHeadingCollapsed": true
   },
   "source": [
    "In this notebook, Data Science Tools and Ecosystem are summarized."
   ]
  },
  {
   "cell_type": "markdown",
   "id": "f5014b51-b6cd-4c31-b7da-3cc079f41249",
   "metadata": {},
   "source": [
    "Some of the popular languages that Data Scientists use are:\n",
    "1. Python\n",
    "2. R\n",
    "3. SQL"
   ]
  },
  {
   "cell_type": "markdown",
   "id": "ba87acd2-2605-4181-b4b6-5b59ddb1db8a",
   "metadata": {},
   "source": [
    "Some of the commonly used libraries used by Data Scientists include:\n",
    "1. Numpy\n",
    "2. Matplotlib\n",
    "3. Pandas\n",
    "4. Seaborn\n",
    "5. TensorFlow"
   ]
  },
  {
   "cell_type": "markdown",
   "id": "93d312c9-7905-4455-b6f0-d96567e6b630",
   "metadata": {},
   "source": [
    "\n",
    "|Data Science Tools|\n",
    "| --- |\n",
    "| Anaconda |\n",
    "| Jupyter Notebooks |\n",
    "| RStudio |\n",
    "\n"
   ]
  },
  {
   "cell_type": "markdown",
   "id": "6a2c4c9d-1b71-4972-baac-11ae41dd574b",
   "metadata": {},
   "source": [
    "### Below are a few examples of evaluating arithmetic expressions in Python."
   ]
  },
  {
   "cell_type": "markdown",
   "id": "f2cad024-7855-4eb5-9ecd-46f4a22691f4",
   "metadata": {},
   "source": [
    "This a simple arithmetic expression to mutiply then add integers"
   ]
  },
  {
   "cell_type": "code",
   "execution_count": 8,
   "id": "0632aaaf-51c8-4e85-a957-e9f001ea5f0d",
   "metadata": {},
   "outputs": [
    {
     "name": "stdout",
     "output_type": "stream",
     "text": [
      "17\n"
     ]
    }
   ],
   "source": [
    "a = (3*4)+5\n",
    "print (a)"
   ]
  },
  {
   "cell_type": "markdown",
   "id": "0b6acd75-5241-4b48-be1e-9ce5e6462b74",
   "metadata": {},
   "source": [
    "This will convert 200 minutes to hours by diving by 60"
   ]
  },
  {
   "cell_type": "code",
   "execution_count": 9,
   "id": "e54fa3c0-641a-4aa7-9014-f59861feb1cf",
   "metadata": {},
   "outputs": [
    {
     "data": {
      "text/plain": [
       "3.3333333333333335"
      ]
     },
     "execution_count": 9,
     "metadata": {},
     "output_type": "execute_result"
    }
   ],
   "source": [
    "def hours(numberminutes):\n",
    "    hour = numberminutes/60\n",
    "    return hour\n",
    "hours(200)"
   ]
  },
  {
   "cell_type": "markdown",
   "id": "b93fccac-0a36-44e4-8e7c-a9bf3bdeaabc",
   "metadata": {},
   "source": [
    "**Objectives:**\n",
    "\n",
    "* Summarize common tools and elements for Data Science\n",
    "* Illustrate how Computational Notebook work\n",
    "* List populas libraties and languajes for data science\n",
    "  "
   ]
  },
  {
   "cell_type": "code",
   "execution_count": null,
   "id": "a8ad7c0a-e704-442b-afab-0802d22fd1e5",
   "metadata": {},
   "outputs": [],
   "source": []
  },
  {
   "cell_type": "code",
   "execution_count": null,
   "id": "33844998-4099-4138-bfba-d200c48ee70e",
   "metadata": {},
   "outputs": [],
   "source": []
  }
 ],
 "metadata": {
  "kernelspec": {
   "display_name": "Python 3 (ipykernel)",
   "language": "python",
   "name": "python3"
  },
  "language_info": {
   "codemirror_mode": {
    "name": "ipython",
    "version": 3
   },
   "file_extension": ".py",
   "mimetype": "text/x-python",
   "name": "python",
   "nbconvert_exporter": "python",
   "pygments_lexer": "ipython3",
   "version": "3.12.7"
  }
 },
 "nbformat": 4,
 "nbformat_minor": 5
}
